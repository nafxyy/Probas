{
 "cells": [
  {
   "cell_type": "markdown",
   "id": "44a2ce66-c087-4030-ba8a-bdfa7d3198a9",
   "metadata": {},
   "source": [
    "### NAMA: MUHAMMAD NAUFAL IHSAN MAULIDIN\n",
    "### NIM: 2109106034\n",
    "### KELAS: INFORMATIKA A 2021\n",
    "### TUGAS AKHIR PROBABILITAS DAN STATISTIKA"
   ]
  },
  {
   "cell_type": "code",
   "execution_count": null,
   "id": "66b96dd7-c92e-44c9-a460-d2a9431e33bd",
   "metadata": {},
   "outputs": [],
   "source": []
  },
  {
   "cell_type": "markdown",
   "id": "df327eed-0c3d-4f49-a688-ed9932d1f6d0",
   "metadata": {},
   "source": [
    "#### Langkah - langkah pengerjaan:"
   ]
  },
  {
   "cell_type": "markdown",
   "id": "2bdcd680-1bc2-4ca4-a10a-ff32d16f18d2",
   "metadata": {},
   "source": [
    "### Mengimport Library yang akan digunakan dalam visualisasi dataset"
   ]
  },
  {
   "cell_type": "code",
   "execution_count": 44,
   "id": "80b5558a-52f9-4aea-912b-835a8a484513",
   "metadata": {},
   "outputs": [],
   "source": [
    "import pandas as pd\n",
    "from matplotlib import pyplot as plt\n",
    "import seaborn as sns"
   ]
  },
  {
   "cell_type": "markdown",
   "id": "06e2831f-911d-406f-a1e6-f3b1b074ce14",
   "metadata": {},
   "source": [
    "### Buka file dataset csv"
   ]
  },
  {
   "cell_type": "code",
   "execution_count": 45,
   "id": "a6367926-54e5-4050-bbde-7810e68cdf2c",
   "metadata": {},
   "outputs": [],
   "source": [
    "df = pd.read_csv(\"StudentsPerformance.csv\")"
   ]
  },
  {
   "cell_type": "code",
   "execution_count": 46,
   "id": "80bc1097-810b-469f-b657-108172155937",
   "metadata": {},
   "outputs": [
    {
     "data": {
      "text/html": [
       "<div>\n",
       "<style scoped>\n",
       "    .dataframe tbody tr th:only-of-type {\n",
       "        vertical-align: middle;\n",
       "    }\n",
       "\n",
       "    .dataframe tbody tr th {\n",
       "        vertical-align: top;\n",
       "    }\n",
       "\n",
       "    .dataframe thead th {\n",
       "        text-align: right;\n",
       "    }\n",
       "</style>\n",
       "<table border=\"1\" class=\"dataframe\">\n",
       "  <thead>\n",
       "    <tr style=\"text-align: right;\">\n",
       "      <th></th>\n",
       "      <th>gender</th>\n",
       "      <th>race/ethnicity</th>\n",
       "      <th>parental level of education</th>\n",
       "      <th>lunch</th>\n",
       "      <th>test preparation course</th>\n",
       "      <th>math_score</th>\n",
       "      <th>reading_score</th>\n",
       "      <th>writing_score</th>\n",
       "    </tr>\n",
       "  </thead>\n",
       "  <tbody>\n",
       "    <tr>\n",
       "      <th>0</th>\n",
       "      <td>female</td>\n",
       "      <td>group B</td>\n",
       "      <td>bachelor's degree</td>\n",
       "      <td>standard</td>\n",
       "      <td>none</td>\n",
       "      <td>72</td>\n",
       "      <td>72</td>\n",
       "      <td>74</td>\n",
       "    </tr>\n",
       "    <tr>\n",
       "      <th>1</th>\n",
       "      <td>female</td>\n",
       "      <td>group C</td>\n",
       "      <td>some college</td>\n",
       "      <td>standard</td>\n",
       "      <td>completed</td>\n",
       "      <td>69</td>\n",
       "      <td>90</td>\n",
       "      <td>88</td>\n",
       "    </tr>\n",
       "    <tr>\n",
       "      <th>2</th>\n",
       "      <td>female</td>\n",
       "      <td>group B</td>\n",
       "      <td>master's degree</td>\n",
       "      <td>standard</td>\n",
       "      <td>none</td>\n",
       "      <td>90</td>\n",
       "      <td>95</td>\n",
       "      <td>93</td>\n",
       "    </tr>\n",
       "    <tr>\n",
       "      <th>3</th>\n",
       "      <td>male</td>\n",
       "      <td>group A</td>\n",
       "      <td>associate's degree</td>\n",
       "      <td>free/reduced</td>\n",
       "      <td>none</td>\n",
       "      <td>47</td>\n",
       "      <td>57</td>\n",
       "      <td>44</td>\n",
       "    </tr>\n",
       "    <tr>\n",
       "      <th>4</th>\n",
       "      <td>male</td>\n",
       "      <td>group C</td>\n",
       "      <td>some college</td>\n",
       "      <td>standard</td>\n",
       "      <td>none</td>\n",
       "      <td>76</td>\n",
       "      <td>78</td>\n",
       "      <td>75</td>\n",
       "    </tr>\n",
       "    <tr>\n",
       "      <th>5</th>\n",
       "      <td>female</td>\n",
       "      <td>group B</td>\n",
       "      <td>associate's degree</td>\n",
       "      <td>standard</td>\n",
       "      <td>none</td>\n",
       "      <td>71</td>\n",
       "      <td>83</td>\n",
       "      <td>78</td>\n",
       "    </tr>\n",
       "    <tr>\n",
       "      <th>6</th>\n",
       "      <td>female</td>\n",
       "      <td>group B</td>\n",
       "      <td>some college</td>\n",
       "      <td>standard</td>\n",
       "      <td>completed</td>\n",
       "      <td>88</td>\n",
       "      <td>95</td>\n",
       "      <td>92</td>\n",
       "    </tr>\n",
       "    <tr>\n",
       "      <th>7</th>\n",
       "      <td>male</td>\n",
       "      <td>group B</td>\n",
       "      <td>some college</td>\n",
       "      <td>free/reduced</td>\n",
       "      <td>none</td>\n",
       "      <td>40</td>\n",
       "      <td>43</td>\n",
       "      <td>39</td>\n",
       "    </tr>\n",
       "    <tr>\n",
       "      <th>8</th>\n",
       "      <td>male</td>\n",
       "      <td>group D</td>\n",
       "      <td>high school</td>\n",
       "      <td>free/reduced</td>\n",
       "      <td>completed</td>\n",
       "      <td>64</td>\n",
       "      <td>64</td>\n",
       "      <td>67</td>\n",
       "    </tr>\n",
       "    <tr>\n",
       "      <th>9</th>\n",
       "      <td>female</td>\n",
       "      <td>group B</td>\n",
       "      <td>high school</td>\n",
       "      <td>free/reduced</td>\n",
       "      <td>none</td>\n",
       "      <td>38</td>\n",
       "      <td>60</td>\n",
       "      <td>50</td>\n",
       "    </tr>\n",
       "  </tbody>\n",
       "</table>\n",
       "</div>"
      ],
      "text/plain": [
       "   gender race/ethnicity parental level of education         lunch  \\\n",
       "0  female        group B           bachelor's degree      standard   \n",
       "1  female        group C                some college      standard   \n",
       "2  female        group B             master's degree      standard   \n",
       "3    male        group A          associate's degree  free/reduced   \n",
       "4    male        group C                some college      standard   \n",
       "5  female        group B          associate's degree      standard   \n",
       "6  female        group B                some college      standard   \n",
       "7    male        group B                some college  free/reduced   \n",
       "8    male        group D                 high school  free/reduced   \n",
       "9  female        group B                 high school  free/reduced   \n",
       "\n",
       "  test preparation course  math_score  reading_score  writing_score  \n",
       "0                    none          72             72             74  \n",
       "1               completed          69             90             88  \n",
       "2                    none          90             95             93  \n",
       "3                    none          47             57             44  \n",
       "4                    none          76             78             75  \n",
       "5                    none          71             83             78  \n",
       "6               completed          88             95             92  \n",
       "7                    none          40             43             39  \n",
       "8               completed          64             64             67  \n",
       "9                    none          38             60             50  "
      ]
     },
     "execution_count": 46,
     "metadata": {},
     "output_type": "execute_result"
    }
   ],
   "source": [
    "df.head(10)"
   ]
  },
  {
   "cell_type": "markdown",
   "id": "44f1de3a-73dd-453e-9731-0d373a75a051",
   "metadata": {},
   "source": [
    "### Tentukan jenis/type data dari setiap variable yang ada pada dataset"
   ]
  },
  {
   "cell_type": "code",
   "execution_count": 47,
   "id": "65309944-0f44-43a0-b438-6c71e58ed19a",
   "metadata": {},
   "outputs": [
    {
     "data": {
      "text/plain": [
       "gender                         object\n",
       "race/ethnicity                 object\n",
       "parental level of education    object\n",
       "lunch                          object\n",
       "test preparation course        object\n",
       "math_score                      int64\n",
       "reading_score                   int64\n",
       "writing_score                   int64\n",
       "dtype: object"
      ]
     },
     "execution_count": 47,
     "metadata": {},
     "output_type": "execute_result"
    }
   ],
   "source": [
    "df.dtypes"
   ]
  },
  {
   "cell_type": "markdown",
   "id": "92ffa336-7e8f-4124-b2c9-7ddb13d59323",
   "metadata": {
    "tags": []
   },
   "source": [
    "### A.) Membuat Table Distribusi Variabel reading_score dan writing_score dengan jumlah dan lebar interval sebesar 10"
   ]
  },
  {
   "cell_type": "markdown",
   "id": "5efbff64-f49e-4f54-8198-3f679a30dcbf",
   "metadata": {},
   "source": [
    "#### 1.) - Tabel Frekuensi Distribusi Variabel Writing Score pada grup"
   ]
  },
  {
   "cell_type": "code",
   "execution_count": 48,
   "id": "dbc84f99-69ec-46b4-a23e-1026d6aa8151",
   "metadata": {},
   "outputs": [
    {
     "data": {
      "text/html": [
       "<div>\n",
       "<style scoped>\n",
       "    .dataframe tbody tr th:only-of-type {\n",
       "        vertical-align: middle;\n",
       "    }\n",
       "\n",
       "    .dataframe tbody tr th {\n",
       "        vertical-align: top;\n",
       "    }\n",
       "\n",
       "    .dataframe thead th {\n",
       "        text-align: right;\n",
       "    }\n",
       "</style>\n",
       "<table border=\"1\" class=\"dataframe\">\n",
       "  <thead>\n",
       "    <tr style=\"text-align: right;\">\n",
       "      <th></th>\n",
       "      <th>Writing_Score</th>\n",
       "      <th>Jumlah_Data</th>\n",
       "    </tr>\n",
       "  </thead>\n",
       "  <tbody>\n",
       "    <tr>\n",
       "      <th>0</th>\n",
       "      <td>(70, 80]</td>\n",
       "      <td>248</td>\n",
       "    </tr>\n",
       "    <tr>\n",
       "      <th>1</th>\n",
       "      <td>(60, 70]</td>\n",
       "      <td>243</td>\n",
       "    </tr>\n",
       "    <tr>\n",
       "      <th>2</th>\n",
       "      <td>(50, 60]</td>\n",
       "      <td>177</td>\n",
       "    </tr>\n",
       "    <tr>\n",
       "      <th>3</th>\n",
       "      <td>(80, 90]</td>\n",
       "      <td>140</td>\n",
       "    </tr>\n",
       "    <tr>\n",
       "      <th>4</th>\n",
       "      <td>(40, 50]</td>\n",
       "      <td>89</td>\n",
       "    </tr>\n",
       "    <tr>\n",
       "      <th>5</th>\n",
       "      <td>(90, 100]</td>\n",
       "      <td>68</td>\n",
       "    </tr>\n",
       "    <tr>\n",
       "      <th>6</th>\n",
       "      <td>(30, 40]</td>\n",
       "      <td>25</td>\n",
       "    </tr>\n",
       "    <tr>\n",
       "      <th>7</th>\n",
       "      <td>(20, 30]</td>\n",
       "      <td>7</td>\n",
       "    </tr>\n",
       "    <tr>\n",
       "      <th>8</th>\n",
       "      <td>(10, 20]</td>\n",
       "      <td>2</td>\n",
       "    </tr>\n",
       "    <tr>\n",
       "      <th>9</th>\n",
       "      <td>(0, 10]</td>\n",
       "      <td>1</td>\n",
       "    </tr>\n",
       "  </tbody>\n",
       "</table>\n",
       "</div>"
      ],
      "text/plain": [
       "  Writing_Score  Jumlah_Data\n",
       "0      (70, 80]          248\n",
       "1      (60, 70]          243\n",
       "2      (50, 60]          177\n",
       "3      (80, 90]          140\n",
       "4      (40, 50]           89\n",
       "5     (90, 100]           68\n",
       "6      (30, 40]           25\n",
       "7      (20, 30]            7\n",
       "8      (10, 20]            2\n",
       "9       (0, 10]            1"
      ]
     },
     "execution_count": 48,
     "metadata": {},
     "output_type": "execute_result"
    }
   ],
   "source": [
    "data = pd.interval_range(0,100, freq = 10)\n",
    "interval_write = pd.cut(df['writing_score'], data)\n",
    "interval_write.value_counts().rename_axis(\"Writing_Score\").reset_index(name=\"Jumlah_Data\")"
   ]
  },
  {
   "cell_type": "markdown",
   "id": "cedeeaf7-ce65-4331-bdeb-c7966a93249a",
   "metadata": {},
   "source": [
    "#### - Histogram Variabel Writing Score"
   ]
  },
  {
   "cell_type": "code",
   "execution_count": 49,
   "id": "3161664f-ffa3-403e-9e57-d03773c96413",
   "metadata": {},
   "outputs": [
    {
     "data": {
      "image/png": "[encoded data removed]",
      "text/plain": [
       "<Figure size 500x500 with 1 Axes>"
      ]
     },
     "metadata": {},
     "output_type": "display_data"
    }
   ],
   "source": [
    "plt.figure(figsize=(5,5))\n",
    "sns.histplot(data=df, x=\"writing_score\", bins=10)\n",
    "plt.show()   "
   ]
  },
  {
   "cell_type": "markdown",
   "id": "07ea4045-6b65-4026-8a4f-4e00f5765229",
   "metadata": {},
   "source": [
    "#### 2.) - Tabel Frekuensi Distribusi Variabel Reading Score pada grup"
   ]
  },
  {
   "cell_type": "code",
   "execution_count": 50,
   "id": "6d03fc19-15a7-4de8-9675-9f84b390eb88",
   "metadata": {},
   "outputs": [
    {
     "data": {
      "text/html": [
       "<div>\n",
       "<style scoped>\n",
       "    .dataframe tbody tr th:only-of-type {\n",
       "        vertical-align: middle;\n",
       "    }\n",
       "\n",
       "    .dataframe tbody tr th {\n",
       "        vertical-align: top;\n",
       "    }\n",
       "\n",
       "    .dataframe thead th {\n",
       "        text-align: right;\n",
       "    }\n",
       "</style>\n",
       "<table border=\"1\" class=\"dataframe\">\n",
       "  <thead>\n",
       "    <tr style=\"text-align: right;\">\n",
       "      <th></th>\n",
       "      <th>Reading_Score</th>\n",
       "      <th>Jumlah_Data</th>\n",
       "    </tr>\n",
       "  </thead>\n",
       "  <tbody>\n",
       "    <tr>\n",
       "      <th>0</th>\n",
       "      <td>(70, 80]</td>\n",
       "      <td>252</td>\n",
       "    </tr>\n",
       "    <tr>\n",
       "      <th>1</th>\n",
       "      <td>(60, 70]</td>\n",
       "      <td>238</td>\n",
       "    </tr>\n",
       "    <tr>\n",
       "      <th>2</th>\n",
       "      <td>(50, 60]</td>\n",
       "      <td>178</td>\n",
       "    </tr>\n",
       "    <tr>\n",
       "      <th>3</th>\n",
       "      <td>(80, 90]</td>\n",
       "      <td>173</td>\n",
       "    </tr>\n",
       "    <tr>\n",
       "      <th>4</th>\n",
       "      <td>(40, 50]</td>\n",
       "      <td>70</td>\n",
       "    </tr>\n",
       "    <tr>\n",
       "      <th>5</th>\n",
       "      <td>(90, 100]</td>\n",
       "      <td>62</td>\n",
       "    </tr>\n",
       "    <tr>\n",
       "      <th>6</th>\n",
       "      <td>(30, 40]</td>\n",
       "      <td>19</td>\n",
       "    </tr>\n",
       "    <tr>\n",
       "      <th>7</th>\n",
       "      <td>(20, 30]</td>\n",
       "      <td>7</td>\n",
       "    </tr>\n",
       "    <tr>\n",
       "      <th>8</th>\n",
       "      <td>(10, 20]</td>\n",
       "      <td>1</td>\n",
       "    </tr>\n",
       "    <tr>\n",
       "      <th>9</th>\n",
       "      <td>(0, 10]</td>\n",
       "      <td>0</td>\n",
       "    </tr>\n",
       "  </tbody>\n",
       "</table>\n",
       "</div>"
      ],
      "text/plain": [
       "  Reading_Score  Jumlah_Data\n",
       "0      (70, 80]          252\n",
       "1      (60, 70]          238\n",
       "2      (50, 60]          178\n",
       "3      (80, 90]          173\n",
       "4      (40, 50]           70\n",
       "5     (90, 100]           62\n",
       "6      (30, 40]           19\n",
       "7      (20, 30]            7\n",
       "8      (10, 20]            1\n",
       "9       (0, 10]            0"
      ]
     },
     "execution_count": 50,
     "metadata": {},
     "output_type": "execute_result"
    }
   ],
   "source": [
    "data = pd.interval_range(0,100, freq = 10)\n",
    "interval_read = pd.cut(df['reading_score'], data)\n",
    "interval_read.value_counts().rename_axis(\"Reading_Score\").reset_index(name=\"Jumlah_Data\")"
   ]
  },
  {
   "cell_type": "markdown",
   "id": "fff0edaa-a582-4d02-907a-fd103b3b7b79",
   "metadata": {},
   "source": [
    "#### - Histogram Variabel Reading Score"
   ]
  },
  {
   "cell_type": "code",
   "execution_count": 51,
   "id": "9954e249-8764-4f50-acc0-d13e2f07b4f2",
   "metadata": {},
   "outputs": [
    {
     "data": {
      "image/png": "[encoded data removed]",
      "text/plain": [
       "<Figure size 500x500 with 1 Axes>"
      ]
     },
     "metadata": {},
     "output_type": "display_data"
    }
   ],
   "source": [
    "plt.figure(figsize=(5,5))\n",
    "sns.histplot(data=df, x = \"reading_score\", bins = 10)\n",
    "plt.show()"
   ]
  },
  {
   "cell_type": "markdown",
   "id": "1ed0eaa6-6092-45ed-a66d-1afcbdc9462b",
   "metadata": {},
   "source": [
    "### B.) Tentukan nilai Tendensi Central: Rata-rata, Median, Modus, Min dan Max data kedua variable tersebut"
   ]
  },
  {
   "cell_type": "code",
   "execution_count": 52,
   "id": "7313504d-67ad-4aa9-af64-9498b2d8fbf8",
   "metadata": {},
   "outputs": [
    {
     "data": {
      "text/html": [
       "<div>\n",
       "<style scoped>\n",
       "    .dataframe tbody tr th:only-of-type {\n",
       "        vertical-align: middle;\n",
       "    }\n",
       "\n",
       "    .dataframe tbody tr th {\n",
       "        vertical-align: top;\n",
       "    }\n",
       "\n",
       "    .dataframe thead th {\n",
       "        text-align: right;\n",
       "    }\n",
       "</style>\n",
       "<table border=\"1\" class=\"dataframe\">\n",
       "  <thead>\n",
       "    <tr style=\"text-align: right;\">\n",
       "      <th></th>\n",
       "      <th>Reading Score</th>\n",
       "      <th>Writing Score</th>\n",
       "    </tr>\n",
       "  </thead>\n",
       "  <tbody>\n",
       "    <tr>\n",
       "      <th>count</th>\n",
       "      <td>1000.000000</td>\n",
       "      <td>1000.000000</td>\n",
       "    </tr>\n",
       "    <tr>\n",
       "      <th>mean</th>\n",
       "      <td>69.169000</td>\n",
       "      <td>68.054000</td>\n",
       "    </tr>\n",
       "    <tr>\n",
       "      <th>std</th>\n",
       "      <td>14.600192</td>\n",
       "      <td>15.195657</td>\n",
       "    </tr>\n",
       "    <tr>\n",
       "      <th>min</th>\n",
       "      <td>17.000000</td>\n",
       "      <td>10.000000</td>\n",
       "    </tr>\n",
       "    <tr>\n",
       "      <th>25%</th>\n",
       "      <td>59.000000</td>\n",
       "      <td>57.750000</td>\n",
       "    </tr>\n",
       "    <tr>\n",
       "      <th>50%</th>\n",
       "      <td>70.000000</td>\n",
       "      <td>69.000000</td>\n",
       "    </tr>\n",
       "    <tr>\n",
       "      <th>75%</th>\n",
       "      <td>79.000000</td>\n",
       "      <td>79.000000</td>\n",
       "    </tr>\n",
       "    <tr>\n",
       "      <th>max</th>\n",
       "      <td>100.000000</td>\n",
       "      <td>100.000000</td>\n",
       "    </tr>\n",
       "  </tbody>\n",
       "</table>\n",
       "</div>"
      ],
      "text/plain": [
       "       Reading Score  Writing Score\n",
       "count    1000.000000    1000.000000\n",
       "mean       69.169000      68.054000\n",
       "std        14.600192      15.195657\n",
       "min        17.000000      10.000000\n",
       "25%        59.000000      57.750000\n",
       "50%        70.000000      69.000000\n",
       "75%        79.000000      79.000000\n",
       "max       100.000000     100.000000"
      ]
     },
     "execution_count": 52,
     "metadata": {},
     "output_type": "execute_result"
    }
   ],
   "source": [
    "dataScore = {'Reading Score' : df[\"reading_score\"], \n",
    "             'Writing Score' : df[\"writing_score\"],\n",
    "            }\n",
    "score = pd.DataFrame(dataScore)\n",
    "score.describe()"
   ]
  },
  {
   "cell_type": "markdown",
   "id": "73d878e1-9cef-497b-9a41-ba0ea2a48f9c",
   "metadata": {},
   "source": [
    "#### NILAI MODUS"
   ]
  },
  {
   "cell_type": "code",
   "execution_count": 53,
   "id": "f4414b84-c08e-4c9a-9f94-a1d53d9a9799",
   "metadata": {},
   "outputs": [
    {
     "name": "stdout",
     "output_type": "stream",
     "text": [
      "Nilai Modus Reading Score:\n",
      "0    72\n",
      "Name: reading_score, dtype: int64\n",
      "\n",
      "Nilai Modus Writing Score:\n",
      "0    74\n",
      "Name: writing_score, dtype: int64\n"
     ]
    }
   ],
   "source": [
    "print(\"Nilai Modus Reading Score:\")\n",
    "print(df['reading_score'].mode())\n",
    "print()\n",
    "print(\"Nilai Modus Writing Score:\")\n",
    "print(df['writing_score'].mode())"
   ]
  },
  {
   "cell_type": "markdown",
   "id": "d8103911-1882-4c05-8fe8-41779b5b7d50",
   "metadata": {},
   "source": [
    "### C.) Tentukan nilai Variasi: Jangkauan Range, Kisaran Interkuartil, Varians, Standar Deviasi data reading_score dan writing_score"
   ]
  },
  {
   "cell_type": "code",
   "execution_count": 54,
   "id": "19f14f1f-1cb4-40dc-b971-b57ff67b4c67",
   "metadata": {},
   "outputs": [
    {
     "name": "stdout",
     "output_type": "stream",
     "text": [
      "NILAI VARIASI YANG DIPEROLEH:\n",
      "\n",
      "=================READING SCORE================\n",
      "1.) Jangkauan Range Reading Score: Max - Min = 83\n",
      "2.) Kisaran Interkuartil Reading Score: Q3 - Q1 = 20.0\n",
      "3.) Varians Reading Score:  213.16560460460462\n",
      "4.) Standar Deviasi Reading Score:  14.600191937252216\n",
      "\n",
      "=================WRITING SCORE================\n",
      "Jangkauan Range Writing Score: Max - Min = 90\n",
      "Kisaran Interkuartil Writing Score: Q3 - Q1 = 21.25\n",
      "Varians Writing Score:  230.907991991992\n",
      "Standar Deviasi Writing Score:  15.19565701086965\n",
      "\n"
     ]
    }
   ],
   "source": [
    "print(\"NILAI VARIASI YANG DIPEROLEH:\")\n",
    "print()\n",
    "print(\"=================READING SCORE================\")\n",
    "print(\"1.) Jangkauan Range Reading Score: Max - Min =\", df[\"reading_score\"].max() - df[\"reading_score\"].min())\n",
    "print(\"2.) Kisaran Interkuartil Reading Score: Q3 - Q1 =\", df[\"reading_score\"].quantile(0.75) - df[\"reading_score\"].quantile(0.25))\n",
    "print(\"3.) Varians Reading Score: \", df[\"reading_score\"].var())\n",
    "print(\"4.) Standar Deviasi Reading Score: \", df[\"reading_score\"].std())\n",
    "print()\n",
    "\n",
    "print(\"=================WRITING SCORE================\")\n",
    "print(\"Jangkauan Range Writing Score: Max - Min =\", df[\"writing_score\"].max() - df[\"writing_score\"].min())\n",
    "print(\"Kisaran Interkuartil Writing Score: Q3 - Q1 =\", df[\"writing_score\"].quantile(0.75) - df[\"writing_score\"].quantile(0.25))\n",
    "print(\"Varians Writing Score: \", df[\"writing_score\"].var())\n",
    "print(\"Standar Deviasi Writing Score: \", df[\"writing_score\"].std())\n",
    "print()"
   ]
  },
  {
   "cell_type": "markdown",
   "id": "035f7fd4-b24c-4243-b2c1-52c6bfe6b196",
   "metadata": {},
   "source": [
    "### D.) Buat Grafik data Variabel reading_score dan writing_score: Histogram, BOX PLOT, dan Tentukan Nilai Skewness dan Kurtosis. Buat interpretasi saudara tentang perbedaan distribusi kedua variable tersebut, terutama pada gambar BOX PLOT dan nilai Skewness - Kurtosisnya."
   ]
  },
  {
   "cell_type": "markdown",
   "id": "361efc4e-c474-4b91-be2d-d9a673f19ea9",
   "metadata": {},
   "source": [
    "### HISTOGRAM"
   ]
  },
  {
   "cell_type": "markdown",
   "id": "63a66cfe-417f-4f1d-97ff-8ea2ef09486d",
   "metadata": {},
   "source": [
    "#### - Histogram Variabel Writing Score"
   ]
  },
  {
   "cell_type": "code",
   "execution_count": 57,
   "id": "20ebc83c-e385-49fb-b561-353a83183c54",
   "metadata": {},
   "outputs": [
    {
     "data": {
      "image/png": "[encoded data removed]",
      "text/plain": [
       "<Figure size 1000x1000 with 1 Axes>"
      ]
     },
     "metadata": {},
     "output_type": "display_data"
    }
   ],
   "source": [
    "plt.figure(figsize=(10,10))\n",
    "sns.histplot(data=df, x=\"writing_score\")\n",
    "plt.show()   "
   ]
  },
  {
   "cell_type": "markdown",
   "id": "4d8b2d81-9679-4140-ba3e-f88ce309a5a5",
   "metadata": {},
   "source": [
    "#### - Histogram Variabel Reading Score"
   ]
  },
  {
   "cell_type": "code",
   "execution_count": 59,
   "id": "af5a431c-d332-4cc4-aacb-3f6cfc13d433",
   "metadata": {},
   "outputs": [
    {
     "data": {
      "image/png": "[encoded data removed]",
      "text/plain": [
       "<Figure size 1000x1000 with 1 Axes>"
      ]
     },
     "metadata": {},
     "output_type": "display_data"
    }
   ],
   "source": [
    "plt.figure(figsize=(10,10))\n",
    "sns.histplot(data=df, x=\"reading_score\")\n",
    "plt.show()   "
   ]
  },
  {
   "cell_type": "markdown",
   "id": "d6c27a10-7fb9-471e-9e8a-c02e8a6090df",
   "metadata": {},
   "source": [
    "### BOXPLOT:"
   ]
  },
  {
   "cell_type": "code",
   "execution_count": 60,
   "id": "546c798a-7a5e-4150-9e07-b64b65434792",
   "metadata": {},
   "outputs": [
    {
     "data": {
      "text/plain": [
       "<AxesSubplot: title={'center': 'Writing Score'}, xlabel='gender', ylabel='writing_score'>"
      ]
     },
     "execution_count": 60,
     "metadata": {},
     "output_type": "execute_result"
    },
    {
     "data": {
      "image/png": "[encoded data removed]",
      "text/plain": [
       "<Figure size 1200x500 with 2 Axes>"
      ]
     },
     "metadata": {},
     "output_type": "display_data"
    }
   ],
   "source": [
    "fig, ax = plt.subplots(figsize=(12,5), ncols=2)\n",
    "\n",
    "ax[0].set_title('Reading Score')\n",
    "sns.boxplot(ax=ax[0],x=df['gender'],y=df['reading_score'])\n",
    "\n",
    "\n",
    "ax[1].set_title('Writing Score')\n",
    "sns.boxplot(ax=ax[1],x=df['gender'],y=df['writing_score'])"
   ]
  },
  {
   "cell_type": "markdown",
   "id": "f929e716-30ae-4978-93e9-0e8e5ad7b6a5",
   "metadata": {},
   "source": [
    "### NILAI SKEWNESS DAN KURTOSIS KEDUA VARIABEL:"
   ]
  },
  {
   "cell_type": "code",
   "execution_count": 62,
   "id": "929b680e-a771-45bd-9243-8dfca10bb426",
   "metadata": {},
   "outputs": [
    {
     "name": "stdout",
     "output_type": "stream",
     "text": [
      "Nilai Skewness Writing Score: -0.28944397150761897\n",
      "Nilai Kurtosis Writing Score: -0.03336461500693577\n",
      "Nilai Skewness Reading Score: -0.25910451810923063\n",
      "Nilai Kurtosis Reading Score: -0.0682654585647704\n"
     ]
    }
   ],
   "source": [
    "print(\"Nilai Skewness Writing Score:\", df[\"writing_score\"].skew(skipna=True, level=None, numeric_only=None))\n",
    "print(\"Nilai Kurtosis Writing Score:\", df[\"writing_score\"].kurt(skipna=True, level=None, numeric_only=None))\n",
    "print(\"Nilai Skewness Reading Score:\", df[\"reading_score\"].skew(skipna=True, level=None, numeric_only=None))\n",
    "print(\"Nilai Kurtosis Reading Score:\", df[\"reading_score\"].kurt(skipna=True, level=None, numeric_only=None))"
   ]
  },
  {
   "cell_type": "markdown",
   "id": "a543ed04-8713-446d-8926-3819d5d53678",
   "metadata": {},
   "source": [
    "### E. Buat scatter plot antara writing_score (dependent variable-Y) versus reading_score (independent variable-X). Tulis interpretasi saudara apakah ada indikasi hubungan liear antar keduanya."
   ]
  },
  {
   "cell_type": "code",
   "execution_count": 63,
   "id": "4f874daa-ac70-4f10-b674-98e4ae04be30",
   "metadata": {},
   "outputs": [
    {
     "data": {
      "text/plain": [
       "Text(0.5, 1.0, 'Perbandingan Reading Score dan Writing Score')"
      ]
     },
     "execution_count": 63,
     "metadata": {},
     "output_type": "execute_result"
    },
    {
     "data": {
      "image/png": "[encoded data removed]",
      "text/plain": [
       "<Figure size 640x480 with 1 Axes>"
      ]
     },
     "metadata": {},
     "output_type": "display_data"
    }
   ],
   "source": [
    "sns.scatterplot(data = df, \n",
    "                x = \"reading_score\", \n",
    "                y = \"writing_score\",\n",
    "               color = 'Black')\n",
    "plt.title(\"Perbandingan Reading Score dan Writing Score\")"
   ]
  },
  {
   "cell_type": "markdown",
   "id": "a93a7f0e-f6f6-483c-a529-843d96180dbe",
   "metadata": {},
   "source": [
    "### SELESAI\n",
    "### TERIMA KASIH"
   ]
  },
  {
   "cell_type": "code",
   "execution_count": null,
   "id": "fa4fe8c5-501f-4580-aa88-f0185b71721e",
   "metadata": {},
   "outputs": [],
   "source": []
  }
 ],
 "metadata": {
  "kernelspec": {
   "display_name": "Python 3 (ipykernel)",
   "language": "python",
   "name": "python3"
  },
  "language_info": {
   "codemirror_mode": {
    "name": "ipython",
    "version": 3
   },
   "file_extension": ".py",
   "mimetype": "text/x-python",
   "name": "python",
   "nbconvert_exporter": "python",
   "pygments_lexer": "ipython3",
   "version": "3.10.7"
  }
 },
 "nbformat": 4,
 "nbformat_minor": 5
}
